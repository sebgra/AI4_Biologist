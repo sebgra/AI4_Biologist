{
  "cells": [
    {
      "cell_type": "markdown",
      "metadata": {
        "id": "view-in-github",
        "colab_type": "text"
      },
      "source": [
        "<a href=\"https://colab.research.google.com/github/Konstvv/iBio-Summer-School/blob/main/Summer_school_PPI_solved.ipynb\" target=\"_parent\"><img src=\"https://colab.research.google.com/assets/colab-badge.svg\" alt=\"Open In Colab\"/></a>"
      ]
    },
    {
      "cell_type": "markdown",
      "metadata": {
        "id": "Er_Q7bFjUnRm"
      },
      "source": [
        "# Protein-Protein Interaction prediction using Keras\n",
        "\n",
        "by Konstantin Volzhenin\n",
        "\n",
        "27/07/2022"
      ]
    },
    {
      "cell_type": "markdown",
      "metadata": {
        "id": "aYTLgsfHU767"
      },
      "source": [
        "# Contents\n",
        "- Introduction\n",
        "- Dataset\n",
        "- Protein representations and embeddings\n",
        "- PPI prediction model\n",
        "- Data Analysis\n"
      ]
    },
    {
      "cell_type": "markdown",
      "metadata": {
        "id": "bJAJ_0KHWCgS"
      },
      "source": [
        "# Introduction"
      ]
    },
    {
      "cell_type": "markdown",
      "metadata": {
        "id": "1Q9bC5kC-cmb"
      },
      "source": [
        "## 1. PPI Networks\n",
        "\n",
        "**Protein–protein interactions (PPIs)** are physical contacts established between two or more protein molecules as a result of biochemical events steered by various physical interactions. When studying a given organism (or an ecosystem with multiple organisms) the PPIs are usually combined together to form a protein-protein interaction network. Such networks or interactomes are of a great interest because of their value in different areas of protein related research (e.g. search for potential protein targets in therapeutic interest).\n",
        "\n",
        "\n",
        "---\n",
        "\n",
        "<p align=\"center\">\n",
        "  <img src=\"https://www.ncbi.nlm.nih.gov/pmc/articles/PMC4898894/bin/npjschz201612-f2.jpg\" />\n",
        "</p>\n",
        "\n",
        "<center>\n",
        "Fig. 1 Schizophrenia interactome\n",
        "</center>\n",
        "    \n",
        "    Image taken from: Ganapathiraju MK, Thahir M, Handen A, Sarkar SN, Sweet RA, Nimgaonkar VL, Loscher CE, Bauer EM, Chaparala S (April 2016). \"Schizophrenia interactome with 504 novel protein-protein interactions\". NPJ Schizophrenia. 2: 16012.\n",
        "\n",
        "---\n",
        "\n",
        "\n",
        "## 2. Protein-protein interactions task - binary classification\n",
        "\n",
        "During this class we will create a Deep Learning architechture for PPI prediction. The task itself is a binary classification: we have two sequences as an input and the model would have to estimate the probability of these two proteins to interact (a number between 0 and 1)."
      ]
    },
    {
      "cell_type": "markdown",
      "metadata": {
        "id": "N-rq5Jc-YJwc"
      },
      "source": [
        "# Dataset\n",
        "During this class we will work with PPI data\n",
        "of yeast *Saccharomyces cerevisiae*. An\n",
        "independent data set of 11 474 yeast PPIs contains approximately equal number of interacting and non-interacting pairs.\n",
        "\n",
        "    Reference: Guo,Y. et al. (2008) Using support vector machine combined with auto covariance to predict protein–protein interactions from protein sequences. Nucleic Acids Res., 36, 3025–3030.\n",
        "\n",
        "The dataset is composed of two files:\n",
        "\n",
        "> **1. Interactions**\n",
        "\n",
        "  Each entry contains two protein IDs and a binary label (1 - two given proteins interact, 0 - do not interact)\n",
        "\n",
        "\n",
        "> **2. Dictionary**\n",
        "\n",
        "  Contains protein IDs and corresponding protein sequences.\n",
        "<br>\n",
        "<br>\n",
        "Using [this link](https://drive.google.com/drive/folders/1faC0YxAEfMBIWdtKIR-F33fSfFj6fL2T?usp=sharing), please download the dataset to your Colab folder.\n",
        "\n",
        "Before working with a model we have to upload and preprocess the data.\n",
        "\n"
      ]
    },
    {
      "cell_type": "markdown",
      "metadata": {
        "id": "AnZVQ7xvNABw"
      },
      "source": [
        "Let's open the two downloaded files as DataFrames using Pandas and see what they look like:"
      ]
    },
    {
      "cell_type": "code",
      "execution_count": 2,
      "metadata": {
        "colab": {
          "base_uri": "https://localhost:8080/"
        },
        "id": "P-LSaXyAjCV8",
        "outputId": "2ded6545-3c97-4da7-b6d0-01a058202d59"
      },
      "outputs": [
        {
          "output_type": "stream",
          "name": "stdout",
          "text": [
            "Cloning into 'iBio-Summer-School'...\n",
            "remote: Enumerating objects: 16, done.\u001b[K\n",
            "remote: Counting objects: 100% (16/16), done.\u001b[K\n",
            "remote: Compressing objects: 100% (16/16), done.\u001b[K\n",
            "remote: Total 16 (delta 6), reused 0 (delta 0), pack-reused 0\u001b[K\n",
            "Unpacking objects: 100% (16/16), done.\n",
            "         Seq1    Seq2  Label\n",
            "0      P53049  P09435      1\n",
            "1      Q08949  P38089      1\n",
            "2      P02293  P00560      1\n",
            "3      P53199  P53043      1\n",
            "4      P47093  P37370      1\n",
            "...       ...     ...    ...\n",
            "11183  Q08980  O14467      0\n",
            "11184  Q08931  P26188      0\n",
            "11185  Q03792  P21651      0\n",
            "11186  P53743  P34218      0\n",
            "11187  P36057  P31111      0\n",
            "\n",
            "[11188 rows x 3 columns]\n",
            "          Id                                         Seq_string\n",
            "0     O13297  MSYTDNPPQTKRALSLDDLVNHDENEKVKLQKLSEAANGSRPFAEN...\n",
            "1     O13530  MGYTLFRFIVPFNPYFSSFYPSFPFYLSFPFCPSFPSFLSFPSSIF...\n",
            "2     O13539  MTKEEGRTYFESLCEEEQSLQESQTHLLNILDILSVLADPRSSDDL...\n",
            "3     O13553  MGQQRRSPLETVFLPLPSSQTTSTHAIAHFVLPACLFYSRSIFDHW...\n",
            "4     O13554  MRHCIIFIVCISIVEIRTVHIEFIKEIVVIFRIVDHFSPFMLPCLL...\n",
            "...      ...                                                ...\n",
            "2492  Q99382  MAGKAGRKQASSNAKIIQGLYKQVSLFLGMAIVRLFISRKVTIGQW...\n",
            "2493  Q99383  MSSDEEDFNDIYGDDKPTTTEEVKKEEEQNKAGSGTSQLDQLAALQ...\n",
            "2494  Q99385  MDATTPLLTVANSHPARNPKHTAWRAAVYDLQYILKASPLNFLLVF...\n",
            "2495  Q99394  MSSTHSNNVGHPQSSPQGPLTEQQRAQQQYQIFENSLPKVSQSVYQ...\n",
            "2496  Q9URQ3  MRSNRNQDQLTNFQTYISAVNVWSIRIDPRDSKKVIEYKNDPVSLR...\n",
            "\n",
            "[2497 rows x 2 columns]\n"
          ]
        }
      ],
      "source": [
        "!git clone https://github.com/Konstvv/iBio-Summer-School\n",
        "import pandas as pd\n",
        "import numpy as np\n",
        "\n",
        "data = pd.read_csv('iBio-Summer-School/Interactions.tsv', sep='\\t')\n",
        "dict_seq = pd.read_csv('iBio-Summer-School/Dictionary.tsv', sep='\\t')\n",
        "\n",
        "print(data)\n",
        "print(dict_seq)"
      ]
    },
    {
      "cell_type": "markdown",
      "metadata": {
        "id": "GElD-GnTjXx_"
      },
      "source": [
        "# Protein representations and embeddings\n",
        "\n",
        "The neural network cannot process the protein sequence represented by a string. In order to overcome this issue we have to find a way how to represent any given sequence numerically. In this class we will consider a couple of potential options\n",
        "\n"
      ]
    },
    {
      "cell_type": "markdown",
      "metadata": {
        "id": "Le_mDTAY6SK1"
      },
      "source": [
        "First of all let's evaluate the length distribution of our sequences in the dataset. Using *plt.hist* plot the sequence length distribution from *dict_seq*:"
      ]
    },
    {
      "cell_type": "code",
      "execution_count": 5,
      "metadata": {
        "colab": {
          "base_uri": "https://localhost:8080/",
          "height": 319
        },
        "id": "gdMQIJgd6TIz",
        "outputId": "ed2fea25-9b20-4ba1-d660-fde9a124c3b2"
      },
      "outputs": [
        {
          "output_type": "stream",
          "name": "stdout",
          "text": [
            "1    5594\n",
            "0    5594\n",
            "Name: Label, dtype: int64\n"
          ]
        },
        {
          "output_type": "display_data",
          "data": {
            "text/plain": [
              "<Figure size 432x288 with 1 Axes>"
            ],
            "image/png": "[encoded data removed]"
          },
          "metadata": {
            "needs_background": "light"
          }
        }
      ],
      "source": [
        "import matplotlib.pyplot as plt\n",
        "%matplotlib inline\n",
        "\n",
        "print(data['Label'].value_counts())\n",
        "\n",
        "plt.hist(dict_seq['Seq_string'].str.len(), bins=50)\n",
        "plt.show()"
      ]
    },
    {
      "cell_type": "code",
      "execution_count": null,
      "metadata": {
        "id": "MqHoIqxmPB1c"
      },
      "outputs": [],
      "source": [
        "## Introducing a couple of parameters\n",
        "\n",
        "# The sequence size for our future model\n",
        "# All the sequences will be either trimmed or extended to this size\n",
        "sequence_size = 2000  #@param {type: \"slider\", min: 100, max: 4000}\n",
        "\n",
        "# Vocabulary of aminoacids\n",
        "aminoacids = ['A', 'C', 'D', 'E', 'F', 'G', 'H', 'I', 'K', 'L',\n",
        "                'M', 'N', 'P', 'Q', 'R', 'S', 'T', 'V', 'W', 'Y']"
      ]
    },
    {
      "cell_type": "markdown",
      "metadata": {
        "id": "jEmBUiOYPB7U"
      },
      "source": [
        "## 1. One-hot embedding\n",
        "\n",
        "The features are encoded using a ‘one-of-K’ or ‘dummy’ scheme. Every letter is replaced by a vector of size *len(aminoacids)* which is filled with 0 with only one value (at position *aminoacids.index(letter)*) being 1.\n",
        "\n",
        "Please write a function **one_hot_emb** that takes a protein sequence as a string input and returns a one-hot array with the size *(sequence_size, len(aminoacids))*. If the string is longer than *sequence_size*, delete the excess (shorter - pad the rest with zeros)."
      ]
    },
    {
      "cell_type": "code",
      "execution_count": null,
      "metadata": {
        "id": "cs3wbCR6DdtG"
      },
      "outputs": [],
      "source": [
        "def one_hot_emb(string):\n",
        "    # A shape that will be used for every one-hot embedding\n",
        "    seq_tensor = np.zeros((sequence_size, len(aminoacids)), dtype=np.float16)\n",
        "    for i in range(len(string)):\n",
        "        char = string[i]\n",
        "        if char in aminoacids:\n",
        "            seq_tensor[i, aminoacids.index(char)] = 1\n",
        "        if i == sequence_size - 1:\n",
        "            break\n",
        "    return seq_tensor\n"
      ]
    },
    {
      "cell_type": "markdown",
      "metadata": {
        "id": "__0du9z8DUen"
      },
      "source": [
        "## 2. NLF embedding\n",
        "\n",
        "This method takes many physicochemical properties and transforms them using PCA (dimensionality reduction method) and Fisher transformation creating a small set of features that can describe an amino acid. There are 18 transformed features in total.\n",
        "\n",
        "    Reference: L. Nanni and A. Lumini, “A new encoding technique for peptide classification,” Expert Syst. Appl., vol. 38, no. 4, pp. 3185–3191, 2011.\n",
        "\n",
        "We can upload a DataFrame that contains the transrormed vectors for all the corresponding amino acids:"
      ]
    },
    {
      "cell_type": "code",
      "execution_count": null,
      "metadata": {
        "colab": {
          "base_uri": "https://localhost:8080/"
        },
        "id": "w10rGZQhMh-D",
        "outputId": "8cd21920-f8db-4056-bd0e-58ae118258a9"
      },
      "outputs": [
        {
          "name": "stdout",
          "output_type": "stream",
          "text": [
            "       A     R     N     D     C     Q     E     G     H     I  ...     M  \\\n",
            "1   0.42  1.65  1.68  0.81  2.70  1.71  1.56  1.32  0.13  1.52  ...  1.72   \n",
            "2   2.07  1.40  0.30  0.13  0.32  1.11  0.48  2.05  1.50  0.45  ...  0.85   \n",
            "3   0.67  0.01  0.49  1.36  1.19  0.08  0.87  0.60  1.22  0.39  ...  0.34   \n",
            "4   0.01  0.88  0.15  0.63  1.37  0.15  0.02  0.31  0.52  0.36  ...  0.44   \n",
            "5   1.10  0.08  0.09  0.15  0.04  0.11  0.07  0.61  1.14  0.01  ...  0.01   \n",
            "6   0.32  0.07  0.59  0.10  0.18  0.45  0.13  0.58  0.45  0.55  ...  0.80   \n",
            "7   0.20  0.60  0.06  0.45  0.64  0.11  0.22  0.00  0.13  0.06  ...  0.16   \n",
            "8   0.09  0.53  0.02  0.31  0.21  0.08  0.15  0.30  0.04  0.10  ...  0.05   \n",
            "9   0.20  0.10  0.14  0.10  0.26  0.02  0.09  0.44  0.10  0.02  ...  0.05   \n",
            "10  0.09  0.01  0.00  0.03  0.35  0.25  0.10  0.14  0.07  0.08  ...  0.30   \n",
            "11  0.11  0.09  0.14  0.15  0.02  0.12  0.04  0.18  0.11  0.10  ...  0.29   \n",
            "12  0.15  0.07  0.09  0.02  0.11  0.25  0.05  0.12  0.13  0.12  ...  0.06   \n",
            "13  0.01  0.09  0.08  0.16  0.05  0.20  0.12  0.12  0.06  0.18  ...  0.02   \n",
            "14  0.06  0.08  0.14  0.12  0.04  0.16  0.28  0.01  0.07  0.01  ...  0.03   \n",
            "15  0.02  0.03  0.11  0.07  0.03  0.01  0.03  0.06  0.01  0.12  ...  0.03   \n",
            "16  0.16  0.09  0.01  0.11  0.10  0.07  0.09  0.00  0.16  0.02  ...  0.09   \n",
            "17  0.07  0.03  0.01  0.01  0.04  0.02  0.06  0.04  0.06  0.20  ...  0.14   \n",
            "18  0.03  0.02  0.01  0.05  0.04  0.03  0.02  0.01  0.03  0.01  ...  0.00   \n",
            "\n",
            "       F     P     S     T     W     Y     V    X     U  \n",
            "1   2.37  1.41  1.47  0.30  2.83  0.70  1.33  0.0  2.70  \n",
            "2   0.23  0.27  1.11  0.68  1.79  0.95  1.39  0.0  0.32  \n",
            "3   0.09  1.09  0.27  0.88  0.16  0.36  0.15  0.0  1.19  \n",
            "4   0.37  0.77  0.13  0.23  0.14  0.60  0.40  0.0  1.37  \n",
            "5   0.19  0.87  0.15  0.10  0.42  0.09  0.04  0.0  0.04  \n",
            "6   0.04  0.33  0.22  0.23  0.84  0.06  0.27  0.0  0.18  \n",
            "7   0.03  0.04  0.09  0.03  0.13  0.55  0.07  0.0  0.64  \n",
            "8   0.06  0.27  0.05  0.01  0.06  0.01  0.12  0.0  0.21  \n",
            "9   0.14  0.43  0.05  0.14  0.04  0.28  0.10  0.0  0.26  \n",
            "10  0.14  0.06  0.14  0.16  0.18  0.17  0.06  0.0  0.35  \n",
            "11  0.10  0.10  0.30  0.15  0.32  0.12  0.01  0.0  0.02  \n",
            "12  0.03  0.14  0.01  0.20  0.26  0.23  0.09  0.0  0.11  \n",
            "13  0.21  0.03  0.16  0.12  0.15  0.02  0.07  0.0  0.05  \n",
            "14  0.04  0.03  0.03  0.05  0.08  0.13  0.10  0.0  0.04  \n",
            "15  0.09  0.01  0.01  0.21  0.04  0.05  0.20  0.0  0.03  \n",
            "16  0.03  0.04  0.06  0.07  0.01  0.08  0.02  0.0  0.10  \n",
            "17  0.06  0.03  0.05  0.00  0.06  0.02  0.08  0.0  0.04  \n",
            "18  0.18  0.01  0.06  0.04  0.12  0.02  0.13  0.0  0.04  \n",
            "\n",
            "[18 rows x 22 columns]\n"
          ]
        }
      ],
      "source": [
        "nlf = pd.read_csv('https://raw.githubusercontent.com/dmnfarrell/epitopepredict/master/epitopepredict'\n",
        "                        '/mhcdata/NLF.csv', index_col=0)\n",
        "# The letter X will represent an empty position (added in case we might encounter empty spots somewhere)\n",
        "nlf['X'] = [0.0] * nlf.shape[0]\n",
        "# If we encounter Selenocysteine, we'll treat it as Cysteine\n",
        "nlf['U'] = nlf['C']\n",
        "print(nlf)"
      ]
    },
    {
      "cell_type": "markdown",
      "metadata": {
        "id": "jw0F9w6cJP-T"
      },
      "source": [
        "Here please write a function **nlf_emb** which would be similar to *one_hot_emb* and would take a protein sequence as an input and return an array with the size *(sequence_size, 18)* where each letter will be replaced by a vector taken from the *nlf* DataFrame"
      ]
    },
    {
      "cell_type": "code",
      "execution_count": null,
      "metadata": {
        "id": "-6Z0ztAqJOx2"
      },
      "outputs": [],
      "source": [
        "def nlf_emb(string):\n",
        "    seq_tensor = np.zeros((sequence_size, nlf.shape[0]), dtype=np.float16)\n",
        "    for i in range(len(string)):\n",
        "        seq_tensor[i] = np.array([nlf[string[i]]])\n",
        "        if i == sequence_size - 1:\n",
        "            break\n",
        "    return seq_tensor"
      ]
    },
    {
      "cell_type": "markdown",
      "metadata": {
        "id": "E61I71G5DV46"
      },
      "source": [
        "## 3. Blosum embedding\n",
        "\n",
        "BLOSUM62 is a substitution matrix that specifies the similarity of one amino acid to another by means of a score. This score reflects the frequency of substiutions found from studying protein sequence conservation in large databases of related proteins. The number 62 stands for the percentage identity at which sequences are clustered in the analysis.\n",
        "\n",
        "We can take columns of this matrix which correspond to a particular amino acid as embedding vectors. These way puts the amino acids with similar physicochemical properties closer together in the embedding space."
      ]
    },
    {
      "cell_type": "code",
      "execution_count": null,
      "metadata": {
        "colab": {
          "base_uri": "https://localhost:8080/"
        },
        "id": "6nDUwnabT5q8",
        "outputId": "a6f5d1a6-e1e2-489c-b37c-9681545cef90"
      },
      "outputs": [
        {
          "name": "stdout",
          "output_type": "stream",
          "text": [
            "   A  R  N  D  C  Q  E  G  H  I  ...  M  F  P  S  T   W  Y  V  X  U\n",
            "A  4 -1 -2 -2  0 -1 -1  0 -2 -1  ... -1 -2 -1  1  0  -3 -2  0  0  0\n",
            "R -1  5  0 -2 -3  1  0 -2  0 -3  ... -1 -3 -2 -1 -1  -3 -2 -3 -1 -3\n",
            "N -2  0  6  1 -3  0  0  0  1 -3  ... -2 -3 -2  1  0  -4 -2 -3 -1 -3\n",
            "D -2 -2  1  6 -3  0  2 -1 -1 -3  ... -3 -3 -1  0 -1  -4 -3 -3 -1 -3\n",
            "C  0 -3 -3 -3  9 -3 -4 -3 -3 -1  ... -1 -2 -3 -1 -1  -2 -2 -1 -2  9\n",
            "Q -1  1  0  0 -3  5  2 -2  0 -3  ...  0 -3 -1  0 -1  -2 -1 -2 -1 -3\n",
            "E -1  0  0  2 -4  2  5 -2  0 -3  ... -2 -3 -1  0 -1  -3 -2 -2 -1 -4\n",
            "G  0 -2  0 -1 -3 -2 -2  6 -2 -4  ... -3 -3 -2  0 -2  -2 -3 -3 -1 -3\n",
            "H -2  0  1 -1 -3  0  0 -2  8 -3  ... -2 -1 -2 -1 -2  -2  2 -3 -1 -3\n",
            "I -1 -3 -3 -3 -1 -3 -3 -4 -3  4  ...  1  0 -3 -2 -1  -3 -1  3 -1 -1\n",
            "L -1 -2 -3 -4 -1 -2 -3 -4 -3  2  ...  2  0 -3 -2 -1  -2 -1  1 -1 -1\n",
            "K -1  2  0 -1 -3  1  1 -2 -1 -3  ... -1 -3 -1  0 -1  -3 -2 -2 -1 -3\n",
            "M -1 -1 -2 -3 -1  0 -2 -3 -2  1  ...  5  0 -2 -1 -1  -1 -1  1 -1 -1\n",
            "F -2 -3 -3 -3 -2 -3 -3 -3 -1  0  ...  0  6 -4 -2 -2   1  3 -1 -1 -2\n",
            "P -1 -2 -2 -1 -3 -1 -1 -2 -2 -3  ... -2 -4  7 -1 -1  -4 -3 -2 -2 -3\n",
            "S  1 -1  1  0 -1  0  0  0 -1 -2  ... -1 -2 -1  4  1  -3 -2 -2  0 -1\n",
            "T  0 -1  0 -1 -1 -1 -1 -2 -2 -1  ... -1 -2 -1  1  5  -2 -2  0  0 -1\n",
            "W -3 -3 -4 -4 -2 -2 -3 -2 -2 -3  ... -1  1 -4 -3 -2  11  2 -3 -2 -2\n",
            "Y -2 -2 -2 -3 -2 -1 -2 -3  2 -1  ... -1  3 -3 -2 -2   2  7 -1 -1 -2\n",
            "V  0 -3 -3 -3 -1 -2 -2 -3 -3  3  ...  1 -1 -2 -2  0  -3 -1  4 -1 -1\n",
            "\n",
            "[20 rows x 22 columns]\n"
          ]
        }
      ],
      "source": [
        "blosum = pd.read_csv('https://raw.githubusercontent.com/dmnfarrell/epitopepredict/master/epitopepredict'\n",
        "                        '/mhcdata/blosum62.csv', index_col=0)\n",
        "# If we encounter Selenocysteine, we'll treat it as Cysteine\n",
        "blosum['U'] = blosum['C']\n",
        "# We will not encounter B, Z or * so we can delete the corresponding vectors\n",
        "blosum.drop(labels=['B', 'Z', 'X', '*'], axis=0, inplace=True)\n",
        "blosum.drop(labels=['B', 'Z', '*'], axis=1, inplace=True)\n",
        "print(blosum)"
      ]
    },
    {
      "cell_type": "markdown",
      "metadata": {
        "id": "0woGLAh5Pviz"
      },
      "source": [
        "Here please write a function **blosum_emb** which would be similar to *one_hot_emb* and would take a protein sequence as an input and return an array with the size *(sequence_size, blosum.shape[0])*"
      ]
    },
    {
      "cell_type": "code",
      "execution_count": null,
      "metadata": {
        "id": "Fm4Gt2H_MaWo"
      },
      "outputs": [],
      "source": [
        "def blosum_emb(string):\n",
        "    seq_tensor = np.zeros((sequence_size, blosum.shape[0]), dtype=np.float16)\n",
        "    for i in range(len(string)):\n",
        "        seq_tensor[i] = np.array([blosum[string[i]]])\n",
        "        if i == sequence_size - 1:\n",
        "            break\n",
        "    return seq_tensor"
      ]
    },
    {
      "cell_type": "markdown",
      "metadata": {
        "id": "hdbmSJ6xDZKL"
      },
      "source": [
        "> **4. Other models**\n",
        "\n",
        "There are many other different ways of how one can create a sequence embedding. The ones that may provide a good performance can be heavier and more complicated than the examples we have today. For example, the good solutions are:\n",
        "\n",
        "\n",
        "*   *Protein profiles*\n",
        "\n",
        "Profiles are used to model protein families and domains. They are built by converting multiple sequence alignments into position-specific scoring systems (PSSMs). Amino acids at each position in the alignment are scored according to the frequency with which they occur.\n",
        "\n",
        "*   *Pretrained protein language models*\n",
        "\n",
        "Various neural networks can be used to compute the embeddings while being trained on a large number of proteins. Such algorithms may use different types of information: the structural and physicochemical similarity between proteins, pairwise residue contact maps for individual proteins, etc. Usually these methods can provide more generalized view than trainable embeddings inside the predictive model due to the fact that they have been trained on large amounts of data.  \n",
        "\n",
        "\n"
      ]
    },
    {
      "cell_type": "markdown",
      "metadata": {
        "id": "buljQ1AJZyhA"
      },
      "source": [
        "Once we have written our embedding function we can use it to convert all the sequences in our protein dictionary into numpy arrays.\n",
        "Let's replace the strings in the 'Seq_string' column of the *dict_seq* DataFrame with the corresponding embeddings using one of the functions above:"
      ]
    },
    {
      "cell_type": "code",
      "execution_count": null,
      "metadata": {
        "colab": {
          "base_uri": "https://localhost:8080/"
        },
        "id": "CoTRdNPAX1g9",
        "outputId": "5ae30e6a-5a01-4c85-823f-9ef4ad29d184"
      },
      "outputs": [
        {
          "name": "stdout",
          "output_type": "stream",
          "text": [
            "          Id                                         Seq_string\n",
            "0     O13297  [[-1.0, -1.0, -2.0, -3.0, -1.0, 0.0, -2.0, -3....\n",
            "1     O13530  [[-1.0, -1.0, -2.0, -3.0, -1.0, 0.0, -2.0, -3....\n",
            "2     O13539  [[-1.0, -1.0, -2.0, -3.0, -1.0, 0.0, -2.0, -3....\n",
            "3     O13553  [[-1.0, -1.0, -2.0, -3.0, -1.0, 0.0, -2.0, -3....\n",
            "4     O13554  [[-1.0, -1.0, -2.0, -3.0, -1.0, 0.0, -2.0, -3....\n",
            "...      ...                                                ...\n",
            "2492  Q99382  [[-1.0, -1.0, -2.0, -3.0, -1.0, 0.0, -2.0, -3....\n",
            "2493  Q99383  [[-1.0, -1.0, -2.0, -3.0, -1.0, 0.0, -2.0, -3....\n",
            "2494  Q99385  [[-1.0, -1.0, -2.0, -3.0, -1.0, 0.0, -2.0, -3....\n",
            "2495  Q99394  [[-1.0, -1.0, -2.0, -3.0, -1.0, 0.0, -2.0, -3....\n",
            "2496  Q9URQ3  [[-1.0, -1.0, -2.0, -3.0, -1.0, 0.0, -2.0, -3....\n",
            "\n",
            "[2497 rows x 2 columns]\n"
          ]
        }
      ],
      "source": [
        "dict_seq['Seq_string'] = dict_seq['Seq_string'].apply(blosum_emb)\n",
        "print(dict_seq)"
      ]
    },
    {
      "cell_type": "markdown",
      "metadata": {
        "id": "MAm8HgnaZwQv"
      },
      "source": [
        "Then, let's replace all the protein IDs in the *data* (columns 'Seq1' and 'Seq2') with corresponding matrices from the *dict_seq*:"
      ]
    },
    {
      "cell_type": "code",
      "execution_count": null,
      "metadata": {
        "colab": {
          "base_uri": "https://localhost:8080/"
        },
        "id": "kQOQMNs5AWRG",
        "outputId": "fd51ec8a-fd72-4092-c2a7-72a2d0aa3612"
      },
      "outputs": [
        {
          "name": "stdout",
          "output_type": "stream",
          "text": [
            "                                             Seq_string1  \\\n",
            "0      [[-1.0, -1.0, -2.0, -3.0, -1.0, 0.0, -2.0, -3....   \n",
            "1      [[-1.0, -1.0, -2.0, -3.0, -1.0, 0.0, -2.0, -3....   \n",
            "2      [[-1.0, -1.0, -2.0, -3.0, -1.0, 0.0, -2.0, -3....   \n",
            "3      [[-1.0, -1.0, -2.0, -3.0, -1.0, 0.0, -2.0, -3....   \n",
            "4      [[-1.0, -1.0, -2.0, -3.0, -1.0, 0.0, -2.0, -3....   \n",
            "...                                                  ...   \n",
            "11183  [[-1.0, -1.0, -2.0, -3.0, -1.0, 0.0, -2.0, -3....   \n",
            "11184  [[-1.0, -1.0, -2.0, -3.0, -1.0, 0.0, -2.0, -3....   \n",
            "11185  [[-1.0, -1.0, -2.0, -3.0, -1.0, 0.0, -2.0, -3....   \n",
            "11186  [[-1.0, -1.0, -2.0, -3.0, -1.0, 0.0, -2.0, -3....   \n",
            "11187  [[-1.0, -1.0, -2.0, -3.0, -1.0, 0.0, -2.0, -3....   \n",
            "\n",
            "                                             Seq_string2  Label  \n",
            "0      [[-1.0, -1.0, -2.0, -3.0, -1.0, 0.0, -2.0, -3....      1  \n",
            "1      [[-1.0, -1.0, -2.0, -3.0, -1.0, 0.0, -2.0, -3....      1  \n",
            "2      [[-1.0, -1.0, -2.0, -3.0, -1.0, 0.0, -2.0, -3....      1  \n",
            "3      [[-1.0, -1.0, -2.0, -3.0, -1.0, 0.0, -2.0, -3....      1  \n",
            "4      [[-1.0, -1.0, -2.0, -3.0, -1.0, 0.0, -2.0, -3....      1  \n",
            "...                                                  ...    ...  \n",
            "11183  [[-1.0, -1.0, -2.0, -3.0, -1.0, 0.0, -2.0, -3....      0  \n",
            "11184  [[-1.0, -1.0, -2.0, -3.0, -1.0, 0.0, -2.0, -3....      0  \n",
            "11185  [[-1.0, -1.0, -2.0, -3.0, -1.0, 0.0, -2.0, -3....      0  \n",
            "11186  [[-1.0, -1.0, -2.0, -3.0, -1.0, 0.0, -2.0, -3....      0  \n",
            "11187  [[-1.0, -1.0, -2.0, -3.0, -1.0, 0.0, -2.0, -3....      0  \n",
            "\n",
            "[11188 rows x 3 columns]\n"
          ]
        }
      ],
      "source": [
        "data = data.merge(dict_seq, left_on='Seq1', right_on='Id', how='left')\n",
        "data = data.merge(dict_seq, left_on='Seq2', right_on='Id', how='left', suffixes=('1', '2'))\n",
        "\n",
        "data = data[['Seq_string1', 'Seq_string2', 'Label']]\n",
        "\n",
        "print(data)"
      ]
    },
    {
      "cell_type": "markdown",
      "metadata": {
        "id": "Z2cXsm0gjoHl"
      },
      "source": [
        "# PPI prediction model\n",
        "In this section we will create a binary classification model for PPI predition. We will do that using the keras module:"
      ]
    },
    {
      "cell_type": "code",
      "execution_count": null,
      "metadata": {
        "id": "T-lmj-WoUKmF"
      },
      "outputs": [],
      "source": [
        "from keras import layers\n",
        "from keras import Model\n",
        "import tensorflow as tf\n",
        "from tensorflow.keras.optimizers import Adam\n",
        "import gc\n",
        "\n",
        "gpus = tf.config.list_physical_devices('GPU')\n",
        "\n",
        "# Making sure we use GPU and setting the memory gorwth\n",
        "if gpus:\n",
        "    try:\n",
        "        for gpu in gpus:\n",
        "            tf.config.experimental.set_memory_growth(gpu, True)\n",
        "        logical_gpus = tf.config.list_logical_devices('GPU')\n",
        "        print(len(gpus), \"Physical GPUs,\", len(logical_gpus), \"Logical GPUs\")\n",
        "    except RuntimeError as e:\n",
        "        # Memory growth must be set before GPUs have been initialized\n",
        "        print(e)"
      ]
    },
    {
      "cell_type": "markdown",
      "metadata": {
        "id": "_BcbitdtdBkJ"
      },
      "source": [
        "## 1. Input - Embedding\n",
        "\n",
        "Here we need to transform the data into numpy arrays and split it into 3 parts: training, validation, and testing. We will use training dataset for the training itself. The validation data will be used to evaluate the performance of the model after each epoch and to choose the best configuration. It is also might be used to choose the optimal values of hyperparameters. The testing data will be used afterwards to make a conclusion about how well the model performs."
      ]
    },
    {
      "cell_type": "code",
      "execution_count": null,
      "metadata": {
        "id": "uko45w84dMfA"
      },
      "outputs": [],
      "source": [
        "from sklearn.model_selection import train_test_split\n",
        "\n",
        "x1 = np.asarray(data['Seq_string1'].tolist(), dtype=np.float16)\n",
        "x2 = np.asarray(data['Seq_string2'].tolist(), dtype=np.float16)\n",
        "y = np.asarray(data['Label'].tolist(), dtype=np.float32)\n",
        "\n",
        "x1_train, x1_test, x2_train, x2_test, y_train, y_test = train_test_split(x1, x2, y, test_size=0.2)\n",
        "# x1_train, x1_val, x2_train, x2_val, y_train, y_val = train_test_split(x1_train, x2_train, y_train, test_size=0.1)\n",
        "\n",
        "# Delete the variables we do not need anymore to free some RAM in case the notebook crashes\n",
        "del data, dict_seq, x1, x2, y"
      ]
    },
    {
      "cell_type": "code",
      "execution_count": null,
      "metadata": {
        "id": "5Wp3Dk3zuTar"
      },
      "outputs": [],
      "source": [
        "input_dimensions = (sequence_size, x1_train.shape[-1])\n",
        "\n",
        "# Inputs\n",
        "seq_input1 = layers.Input(shape=input_dimensions, name='seq1')\n",
        "seq_input2 = layers.Input(shape=input_dimensions, name='seq2')"
      ]
    },
    {
      "cell_type": "markdown",
      "metadata": {
        "id": "8XtuB9SLdDjW"
      },
      "source": [
        "## 2. Siamese module\n",
        "\n",
        "The first part of the Neural network is a so-called siamese module which process two sequences separately. It takes a keras Tensor as an input and outputs another Tensor after having done several manupulations. In this class the Siamese module will consist of three types of layers: Convolutional, MaxPool, and GRU. \n",
        "\n",
        "The following concepts will be explained in person during the class. \n",
        "\n",
        "Here below you can find a schematic gif of 1D convolution. It shows how exactly a filter is applied to the sequence to compute the output:\n",
        "\n",
        "<p align=\"center\">\n",
        "  <img src=\"https://e2eml.school/images/conv1d/stride_2.gif\" />\n",
        "</p>\n",
        "\n",
        "Write the function that processes a Tensor by using 3-4 Conv+MaxPool layers followed by a Bidirectional GRU. Make sure to initialize the layers globally and not inside the function itself, so when we call a function multiple times it would not create new instances:"
      ]
    },
    {
      "cell_type": "code",
      "execution_count": null,
      "metadata": {
        "id": "gaCfbitGuZ8_"
      },
      "outputs": [],
      "source": [
        "# Convolutional modules\n",
        "filters = 96\n",
        "\n",
        "conv01 = layers.Conv1D(filters, 11, activation=\"relu\")\n",
        "mp1 = layers.MaxPooling1D(3)\n",
        "conv02 = layers.Conv1D(filters*2, 7, activation=\"relu\")\n",
        "mp2 = layers.MaxPooling1D(3)\n",
        "conv03 = layers.Conv1D(filters*4, 3, activation=\"relu\")\n",
        "mp3 = layers.MaxPooling1D(3)\n",
        "conv04 = layers.Conv1D(filters*2, 3, activation=\"relu\")\n",
        "mp4 = layers.MaxPooling1D(3)\n",
        "\n",
        "gru = layers.Bidirectional(layers.CuDNNGRU(filters, return_sequences=False))\n",
        "if not gpus:\n",
        "    gru = layers.Bidirectional(layers.GRU(filters, return_sequences=False))\n",
        "\n",
        "def siamese_propagation(x):\n",
        "    x = conv01(x)\n",
        "    x = mp1(x)\n",
        "\n",
        "    x = conv02(x)\n",
        "    x = mp2(x)\n",
        "\n",
        "    x = conv03(x)\n",
        "    x = mp3(x)\n",
        "\n",
        "    x = conv04(x)\n",
        "    x = mp4(x)\n",
        "\n",
        "    x_gru = gru(x)\n",
        "    return x_gru"
      ]
    },
    {
      "cell_type": "markdown",
      "metadata": {
        "id": "dG8R2nK5dIF6"
      },
      "source": [
        "## 3. Merging point\n",
        "\n",
        "The information from two sequences has to be merged at some point to produce a coherent prediction that would depend on the information from both proteins. There are many different ways to do that, but here we will consider an element-wise multiplication because a Biderectional GRU layer will produce only a single value for any given filter."
      ]
    },
    {
      "cell_type": "markdown",
      "metadata": {
        "id": "6zEqQsGZdKeQ"
      },
      "source": [
        "## 4. Prediction module\n",
        "\n",
        "Here we have to create a *forward* function that takes two protein embeddings as inputs, processes them with a siamese module, merges two tensors using element-wise multiplication, and then uses two Dense layers to generate final output for binary classification.\n",
        "\n",
        "*NB: Do not forget to use the sigmoid activation function in the last layer.*"
      ]
    },
    {
      "cell_type": "code",
      "execution_count": null,
      "metadata": {
        "id": "Rnn5LukTiCpd"
      },
      "outputs": [],
      "source": [
        "def forward(left, right):\n",
        "    left = siamese_propagation(left)\n",
        "    right = siamese_propagation(right)\n",
        "\n",
        "    merge = layers.multiply([left, right])\n",
        "\n",
        "    # merge = layers.Dense(filters*2, activation='relu')(merge)\n",
        "    merge = layers.Dropout(0.2)(merge)\n",
        "    return layers.Dense(1, activation='sigmoid')(merge)"
      ]
    },
    {
      "cell_type": "markdown",
      "metadata": {
        "id": "LDj-T3ZcuIpg"
      },
      "source": [
        "## What metrics to use?\n",
        "One of the problems of training a model for PPI prediction is the fact that the datasets are often unbalanced (there are much more negative interactions that positive ones). That is why, sometimes metrics like binary accuracy or ROC AUC might be not the best choice to evaluate the model's performance. Even though here we use a balanced dataset, we will still try to use more reliable metrics.\n",
        "\n",
        "Here we will write three custom loss finctions for the accuracy, F1 score, and the Matthews correlation coefficient (MCC). These metrics provide more reliable assesments for imbalanced data.\n",
        "\n",
        "$$\n",
        "MCC = \\frac{TP × TN - FP × FN}{\\sqrt{(TP + FP)(TP + FN)(TN + FP)(TN + FN)}}\n",
        "$$\n",
        "\n",
        "$$\n",
        "F_{1} = \\frac{TP}{TP + \\frac{1}{2}(FP + FN)}\n",
        "$$\n",
        "\n",
        "where $TP$ - true positives, $TN$ - true negatives, $FP$ - false positives, $FN$ - false negatives\n",
        "\n",
        "The functions must take (y_true, y_pred) as two arguments, two tensors with shape (batch_size, 1) that represent the original labels and predictions respectively, and return a tensor\n"
      ]
    },
    {
      "cell_type": "code",
      "execution_count": null,
      "metadata": {
        "id": "U1iJjpAClG4e"
      },
      "outputs": [],
      "source": [
        "# For better compatibility one can use keras backend functions instead of numpy\n",
        "# For example K.sum instead of np.sum, K.round instead of np.round, etc.\n",
        "import keras.backend as K\n",
        "\n",
        "def f1(y_true, y_pred):\n",
        "    tp = K.sum(K.round(K.clip(y_true * y_pred, 0, 1)))\n",
        "    possible_positives = K.sum(K.round(K.clip(y_true, 0, 1)))\n",
        "    pred_pos = K.sum(K.round(K.clip(y_pred, 0, 1)))\n",
        "    precision = tp / (pred_pos + K.epsilon())\n",
        "    recall = tp / (possible_positives + K.epsilon())\n",
        "    f1_val = 2*(precision*recall)/(precision+recall+K.epsilon())\n",
        "    return f1_val\n",
        "\n",
        "def mcc(y_true, y_pred):\n",
        "    y_pred_pos = K.round(K.clip(y_pred, 0, 1))\n",
        "    y_pred_neg = 1 - y_pred_pos\n",
        "    y_pos = K.round(K.clip(y_true, 0, 1))\n",
        "    y_neg = 1 - y_pos\n",
        "    tp = K.sum(y_pos * y_pred_pos)\n",
        "    tn = K.sum(y_neg * y_pred_neg)\n",
        "    fp = K.sum(y_neg * y_pred_pos)\n",
        "    fn = K.sum(y_pos * y_pred_neg)\n",
        "    numerator = (tp * tn - fp * fn)\n",
        "    denominator = K.sqrt((tp + fp) * (tp + fn) * (tn + fp) * (tn + fn))\n",
        "    return numerator / (denominator + K.epsilon())\n",
        "\n",
        "def accuracy(y_true, y_pred):\n",
        "    y_pred_pos = K.round(K.clip(y_pred, 0, 1))\n",
        "    y_pred_neg = 1 - y_pred_pos\n",
        "    y_pos = K.round(K.clip(y_true, 0, 1))\n",
        "    y_neg = 1 - y_pos\n",
        "    tp = K.sum(y_pos * y_pred_pos)\n",
        "    tn = K.sum(y_neg * y_pred_neg)\n",
        "    fp = K.sum(y_neg * y_pred_pos)\n",
        "    fn = K.sum(y_pos * y_pred_neg)\n",
        "    return (tp + tn) / (tp + tn + fp + fn)"
      ]
    },
    {
      "cell_type": "markdown",
      "metadata": {
        "id": "5J8rvrYSUi55"
      },
      "source": [
        "## The loss function\n",
        "\n",
        "The classic loss function for binary classification problems is binary crossentropy. In this section we are going to write a function that will compute binary crossentropy having two tensors as an input (target values and predictions):"
      ]
    },
    {
      "cell_type": "code",
      "execution_count": null,
      "metadata": {
        "id": "wZVvTVWIUioK"
      },
      "outputs": [],
      "source": [
        "def binary_crossentropy(y_true, y_pred):\n",
        "    y_pred = K.clip(y_pred, K.epsilon(), 1 - K.epsilon())\n",
        "    loss = - K.mean(y_true * K.log(y_pred) + (1 - y_true) * K.log(1 - y_pred))\n",
        "    return loss"
      ]
    },
    {
      "cell_type": "markdown",
      "metadata": {
        "id": "2thXFe-1cQxi"
      },
      "source": [
        "## The model initialization and training\n",
        "\n",
        "After having prepared the architechture we can initialize the Model class and begin the learning on the preprocessed data:"
      ]
    },
    {
      "cell_type": "code",
      "execution_count": null,
      "metadata": {
        "colab": {
          "base_uri": "https://localhost:8080/"
        },
        "id": "eNE5ZtdJk1LG",
        "outputId": "4835b6a8-2cb6-4ed6-cecd-28e81a1bb623"
      },
      "outputs": [
        {
          "name": "stdout",
          "output_type": "stream",
          "text": [
            "Epoch 1/50\n",
            "119/119 [==============================] - 16s 103ms/step - loss: 0.6934 - accuracy: 0.5150 - f1: 0.4814 - mcc: 0.0380 - val_loss: 0.6872 - val_accuracy: 0.5607 - val_f1: 0.6207 - val_mcc: 0.1436\n",
            "Epoch 2/50\n",
            "119/119 [==============================] - 10s 83ms/step - loss: 0.6831 - accuracy: 0.5532 - f1: 0.5475 - mcc: 0.1397 - val_loss: 0.6755 - val_accuracy: 0.5533 - val_f1: 0.6276 - val_mcc: 0.1328\n",
            "Epoch 3/50\n",
            "119/119 [==============================] - 10s 88ms/step - loss: 0.6684 - accuracy: 0.5791 - f1: 0.6265 - mcc: 0.1788 - val_loss: 0.6682 - val_accuracy: 0.5697 - val_f1: 0.5690 - val_mcc: 0.1389\n",
            "Epoch 4/50\n",
            "119/119 [==============================] - 10s 83ms/step - loss: 0.6598 - accuracy: 0.5996 - f1: 0.6496 - mcc: 0.2212 - val_loss: 0.6645 - val_accuracy: 0.6047 - val_f1: 0.5873 - val_mcc: 0.2065\n",
            "Epoch 5/50\n",
            "119/119 [==============================] - 10s 83ms/step - loss: 0.6481 - accuracy: 0.6144 - f1: 0.6595 - mcc: 0.2487 - val_loss: 0.6543 - val_accuracy: 0.5964 - val_f1: 0.3712 - val_mcc: 0.2227\n",
            "Epoch 6/50\n",
            "119/119 [==============================] - 10s 83ms/step - loss: 0.6298 - accuracy: 0.6367 - f1: 0.6611 - mcc: 0.2949 - val_loss: 0.6314 - val_accuracy: 0.6084 - val_f1: 0.6778 - val_mcc: 0.2722\n",
            "Epoch 7/50\n",
            "119/119 [==============================] - 10s 83ms/step - loss: 0.5871 - accuracy: 0.6822 - f1: 0.7042 - mcc: 0.3913 - val_loss: 0.5878 - val_accuracy: 0.7401 - val_f1: 0.7218 - val_mcc: 0.4821\n",
            "Epoch 8/50\n",
            "119/119 [==============================] - 10s 88ms/step - loss: 0.5339 - accuracy: 0.7406 - f1: 0.7486 - mcc: 0.5037 - val_loss: 0.5569 - val_accuracy: 0.7379 - val_f1: 0.6759 - val_mcc: 0.4889\n",
            "Epoch 9/50\n",
            "119/119 [==============================] - 10s 88ms/step - loss: 0.4390 - accuracy: 0.8302 - f1: 0.8359 - mcc: 0.6679 - val_loss: 0.4653 - val_accuracy: 0.7811 - val_f1: 0.7912 - val_mcc: 0.5769\n",
            "Epoch 10/50\n",
            "119/119 [==============================] - 10s 83ms/step - loss: 0.3438 - accuracy: 0.8815 - f1: 0.8812 - mcc: 0.7670 - val_loss: 0.3688 - val_accuracy: 0.8704 - val_f1: 0.8615 - val_mcc: 0.7430\n",
            "Epoch 11/50\n",
            "119/119 [==============================] - 10s 82ms/step - loss: 0.2607 - accuracy: 0.9154 - f1: 0.9141 - mcc: 0.8319 - val_loss: 0.3049 - val_accuracy: 0.8801 - val_f1: 0.8767 - val_mcc: 0.7602\n",
            "Epoch 12/50\n",
            "119/119 [==============================] - 10s 83ms/step - loss: 0.1905 - accuracy: 0.9386 - f1: 0.9370 - mcc: 0.8783 - val_loss: 0.2648 - val_accuracy: 0.8942 - val_f1: 0.8910 - val_mcc: 0.7870\n",
            "Epoch 13/50\n",
            "119/119 [==============================] - 10s 83ms/step - loss: 0.1493 - accuracy: 0.9474 - f1: 0.9463 - mcc: 0.8964 - val_loss: 0.1808 - val_accuracy: 0.9352 - val_f1: 0.9290 - val_mcc: 0.8714\n",
            "Epoch 14/50\n",
            "119/119 [==============================] - 10s 88ms/step - loss: 0.1278 - accuracy: 0.9537 - f1: 0.9525 - mcc: 0.9085 - val_loss: 0.1567 - val_accuracy: 0.9345 - val_f1: 0.9293 - val_mcc: 0.8688\n",
            "Epoch 15/50\n",
            "119/119 [==============================] - 10s 83ms/step - loss: 0.1041 - accuracy: 0.9588 - f1: 0.9575 - mcc: 0.9187 - val_loss: 0.1445 - val_accuracy: 0.9434 - val_f1: 0.9398 - val_mcc: 0.8884\n",
            "Epoch 16/50\n",
            "119/119 [==============================] - 10s 83ms/step - loss: 0.0893 - accuracy: 0.9648 - f1: 0.9639 - mcc: 0.9303 - val_loss: 0.1528 - val_accuracy: 0.9382 - val_f1: 0.9332 - val_mcc: 0.8762\n",
            "Epoch 17/50\n",
            "119/119 [==============================] - 10s 88ms/step - loss: 0.0815 - accuracy: 0.9717 - f1: 0.9718 - mcc: 0.9437 - val_loss: 0.1361 - val_accuracy: 0.9441 - val_f1: 0.9391 - val_mcc: 0.8890\n",
            "Epoch 18/50\n",
            "119/119 [==============================] - 10s 83ms/step - loss: 0.0775 - accuracy: 0.9708 - f1: 0.9706 - mcc: 0.9422 - val_loss: 0.1334 - val_accuracy: 0.9434 - val_f1: 0.9392 - val_mcc: 0.8873\n",
            "Epoch 19/50\n",
            "119/119 [==============================] - 10s 88ms/step - loss: 0.0695 - accuracy: 0.9757 - f1: 0.9750 - mcc: 0.9513 - val_loss: 0.1379 - val_accuracy: 0.9434 - val_f1: 0.9401 - val_mcc: 0.8865\n",
            "Epoch 20/50\n",
            "119/119 [==============================] - 10s 83ms/step - loss: 0.0643 - accuracy: 0.9794 - f1: 0.9791 - mcc: 0.9590 - val_loss: 0.1332 - val_accuracy: 0.9464 - val_f1: 0.9432 - val_mcc: 0.8929\n",
            "Epoch 21/50\n",
            "119/119 [==============================] - 10s 83ms/step - loss: 0.0615 - accuracy: 0.9781 - f1: 0.9779 - mcc: 0.9565 - val_loss: 0.1384 - val_accuracy: 0.9464 - val_f1: 0.9434 - val_mcc: 0.8928\n",
            "Epoch 22/50\n",
            "119/119 [==============================] - 10s 83ms/step - loss: 0.0576 - accuracy: 0.9802 - f1: 0.9798 - mcc: 0.9603 - val_loss: 0.1331 - val_accuracy: 0.9471 - val_f1: 0.9445 - val_mcc: 0.8932\n",
            "Epoch 23/50\n",
            "119/119 [==============================] - 10s 83ms/step - loss: 0.0557 - accuracy: 0.9815 - f1: 0.9811 - mcc: 0.9630 - val_loss: 0.1359 - val_accuracy: 0.9471 - val_f1: 0.9430 - val_mcc: 0.8939\n",
            "Epoch 24/50\n",
            "119/119 [==============================] - 10s 88ms/step - loss: 0.0520 - accuracy: 0.9839 - f1: 0.9838 - mcc: 0.9679 - val_loss: 0.1428 - val_accuracy: 0.9427 - val_f1: 0.9397 - val_mcc: 0.8847\n",
            "Epoch 25/50\n",
            "119/119 [==============================] - 10s 83ms/step - loss: 0.0465 - accuracy: 0.9847 - f1: 0.9846 - mcc: 0.9695 - val_loss: 0.1323 - val_accuracy: 0.9501 - val_f1: 0.9477 - val_mcc: 0.9000\n",
            "Epoch 26/50\n",
            "119/119 [==============================] - 10s 83ms/step - loss: 0.0440 - accuracy: 0.9875 - f1: 0.9872 - mcc: 0.9751 - val_loss: 0.1395 - val_accuracy: 0.9456 - val_f1: 0.9429 - val_mcc: 0.8903\n",
            "Epoch 27/50\n",
            "119/119 [==============================] - 10s 88ms/step - loss: 0.0388 - accuracy: 0.9911 - f1: 0.9910 - mcc: 0.9821 - val_loss: 0.1427 - val_accuracy: 0.9449 - val_f1: 0.9429 - val_mcc: 0.8894\n",
            "Epoch 28/50\n",
            "119/119 [==============================] - 10s 88ms/step - loss: 0.0392 - accuracy: 0.9898 - f1: 0.9899 - mcc: 0.9798 - val_loss: 0.1369 - val_accuracy: 0.9494 - val_f1: 0.9465 - val_mcc: 0.8982\n",
            "Epoch 29/50\n",
            "119/119 [==============================] - 11s 88ms/step - loss: 0.0390 - accuracy: 0.9903 - f1: 0.9902 - mcc: 0.9807 - val_loss: 0.1349 - val_accuracy: 0.9516 - val_f1: 0.9489 - val_mcc: 0.9023\n",
            "Epoch 30/50\n",
            "119/119 [==============================] - 10s 83ms/step - loss: 0.0346 - accuracy: 0.9910 - f1: 0.9910 - mcc: 0.9822 - val_loss: 0.1387 - val_accuracy: 0.9501 - val_f1: 0.9479 - val_mcc: 0.9001\n"
          ]
        },
        {
          "data": {
            "text/plain": [
              "<keras.callbacks.History at 0x7f26ce2a1510>"
            ]
          },
          "execution_count": 42,
          "metadata": {},
          "output_type": "execute_result"
        }
      ],
      "source": [
        "gc.collect()\n",
        "\n",
        "model = Model(inputs=[seq_input1, seq_input2],\n",
        "            outputs=[forward(seq_input1, seq_input2)])\n",
        "\n",
        "adam = Adam(learning_rate=1e-4, amsgrad=True, epsilon=1e-6)\n",
        "\n",
        "checkpoint_callback = tf.keras.callbacks.ModelCheckpoint('/content/model.h5', monitor='val_mcc', mode='max')\n",
        "earlystop_callback = tf.keras.callbacks.EarlyStopping(monitor=\"val_loss\", patience=5)\n",
        "\n",
        "model.compile(optimizer=adam, loss=binary_crossentropy, metrics=[accuracy, f1, mcc])\n",
        "\n",
        "model.fit([x1_train, x2_train], y_train, epochs=50, callbacks=[checkpoint_callback, earlystop_callback],\n",
        "          batch_size=64, verbose=1, validation_split=0.15)"
      ]
    },
    {
      "cell_type": "markdown",
      "metadata": {
        "id": "k6EWy6fqEMoD"
      },
      "source": [
        "# Data Analysis"
      ]
    },
    {
      "cell_type": "markdown",
      "metadata": {
        "id": "SW3TN_aokOKV"
      },
      "source": [
        "\n",
        "## 1. Model testing\n",
        "In this section we are going to get the predictions of the test data and compute the metrics we have used before. Moreover, we can build ROC and PR curves to estimate these metrics as well."
      ]
    },
    {
      "cell_type": "code",
      "execution_count": null,
      "metadata": {
        "id": "VdbrVJlXrVQ8"
      },
      "outputs": [],
      "source": [
        "model_saved = tf.keras.models.load_model('/content/model.h5', custom_objects={'f1': f1, 'mcc': mcc})\n",
        "\n",
        "y_pred = model_saved.predict([x1_test, x2_test]).flatten()"
      ]
    },
    {
      "cell_type": "code",
      "execution_count": null,
      "metadata": {
        "colab": {
          "base_uri": "https://localhost:8080/"
        },
        "id": "I0l4OhIFBkKn",
        "outputId": "c1b7f9bd-cfbf-484c-d087-69f4973823cd"
      },
      "outputs": [
        {
          "name": "stdout",
          "output_type": "stream",
          "text": [
            "Test accuracy:  0.94861484\n",
            "Test F1 score:  0.9477035\n",
            "Test MCC score:  0.89751726\n"
          ]
        }
      ],
      "source": [
        "print('Test accuracy: ', accuracy(y_test, y_pred).numpy())\n",
        "print('Test F1 score: ', f1(y_test,  y_pred).numpy())\n",
        "print('Test MCC score: ', mcc(y_test, y_pred).numpy())"
      ]
    },
    {
      "cell_type": "code",
      "execution_count": null,
      "metadata": {
        "colab": {
          "base_uri": "https://localhost:8080/",
          "height": 279
        },
        "id": "ayDeeWhI_WGx",
        "outputId": "b8efaa7a-cfde-4747-84d8-c496ac85f108"
      },
      "outputs": [
        {
          "data": {
            "image/png": "[encoded data removed]",
            "text/plain": [
              "<Figure size 432x288 with 1 Axes>"
            ]
          },
          "metadata": {},
          "output_type": "display_data"
        }
      ],
      "source": [
        "from sklearn.metrics import PrecisionRecallDisplay\n",
        "\n",
        "PrecisionRecallDisplay.from_predictions(y_test, y_pred)\n",
        "plt.show()"
      ]
    },
    {
      "cell_type": "code",
      "execution_count": null,
      "metadata": {
        "colab": {
          "base_uri": "https://localhost:8080/",
          "height": 279
        },
        "id": "eVtiXyUCAP4p",
        "outputId": "7476911d-e611-42bc-8b45-d84d94782556"
      },
      "outputs": [
        {
          "data": {
            "image/png": "[encoded data removed]",
            "text/plain": [
              "<Figure size 432x288 with 1 Axes>"
            ]
          },
          "metadata": {},
          "output_type": "display_data"
        }
      ],
      "source": [
        "from sklearn.metrics import RocCurveDisplay\n",
        "\n",
        "RocCurveDisplay.from_predictions(y_test, y_pred)\n",
        "plt.show()"
      ]
    },
    {
      "cell_type": "markdown",
      "metadata": {
        "id": "vlX_OFBlw71P"
      },
      "source": [
        "## 3. C1 - C2 - C3 classes\n",
        "\n",
        "The accuracy of PPI predictions greatly vary depending on the training and testing data. In some [state-of-the-art models](http://cb.csail.mit.edu/cb/dscript/) one can observe that the model performance becomes significantly worse when we test the model using proteins from organisms that are not related to the training set. Therefore, the performance of the model can be evaluated slightly differently: we can divide our testing set into 3 groups: C1 - pairs where both proteins were in the training data, C2 - pairs where only one of the proteins is in the training data, C3 - pairs that do not contain proteins from training data at all.\n",
        "\n",
        "In this section you need to manually create three separate testing sets for C1-C2-C3 classes and check whether the model performance is any different."
      ]
    },
    {
      "cell_type": "code",
      "execution_count": null,
      "metadata": {
        "id": "8Osm-pGbhvhk"
      },
      "outputs": [],
      "source": [
        "import random\n",
        "\n",
        "data = pd.read_csv('iBio-Summer-School/Interactions.tsv', sep='\\t')\n",
        "dict_seq = pd.read_csv('iBio-Summer-School/Dictionary.tsv', sep='\\t')\n",
        "dict_seq['Seq_string'] = dict_seq['Seq_string'].apply(blosum_emb)\n",
        "\n",
        "samples = set(data['Seq1'].tolist()+data['Seq2'].tolist())\n",
        "\n",
        "test_split = 0.05\n",
        "# These proteins will only be used in a testing set\n",
        "samples = random.sample(samples, int(len(samples) * test_split))\n",
        "\n",
        "data_C3 = data.loc[data['Seq1'].isin(samples) & data['Seq2'].isin(samples)]\n",
        "data_C2 = data.loc[(~data['Seq1'].isin(samples) & data['Seq2'].isin(samples)) | \n",
        "                   (data['Seq1'].isin(samples) & ~data['Seq2'].isin(samples))]\n",
        "\n",
        "data_C1 = data.loc[~data['Seq1'].isin(samples) & ~data['Seq2'].isin(samples)]\n",
        "\n",
        "del data"
      ]
    },
    {
      "cell_type": "code",
      "execution_count": null,
      "metadata": {
        "id": "AKq_AX-UbKMp"
      },
      "outputs": [],
      "source": [
        "def preprocess_dataset(data):\n",
        "  data = data.merge(dict_seq, left_on='Seq1', right_on='Id', how='left')\n",
        "  data = data.merge(dict_seq, left_on='Seq2', right_on='Id', how='left', suffixes=('1', '2'))\n",
        "\n",
        "  data = data[['Seq_string1', 'Seq_string2', 'Label']]\n",
        "\n",
        "  x1 = np.asarray(data['Seq_string1'].tolist(), dtype=np.float16)\n",
        "  x2 = np.asarray(data['Seq_string2'].tolist(), dtype=np.float16)\n",
        "  y = np.asarray(data['Label'].tolist(), dtype=np.float32)\n",
        "\n",
        "  return x1, x2, y\n",
        "\n",
        "x1, x2, y = preprocess_dataset(data_C1)\n",
        "x1_C2, x2_C2, y_C2 = preprocess_dataset(data_C2)\n",
        "x1_C3, x2_C3, y_C3 = preprocess_dataset(data_C3)\n",
        "\n",
        "del data_C1, data_C2, data_C3\n",
        "\n",
        "x1_train, x1_C1, x2_train, x2_C1, y_train, y_C1 = train_test_split(x1, x2, y, test_size=0.1)\n",
        "# x1_train, x1_val, x2_train, x2_val, y_train, y_val = train_test_split(x1_train, x2_train, y_train, test_size=0.1)"
      ]
    },
    {
      "cell_type": "code",
      "execution_count": null,
      "metadata": {
        "colab": {
          "background_save": true,
          "base_uri": "https://localhost:8080/"
        },
        "id": "LM8xgleRdZxr",
        "outputId": "7b798aba-ec12-4648-bf90-e549115f3f46"
      },
      "outputs": [
        {
          "name": "stdout",
          "output_type": "stream",
          "text": [
            "Epoch 1/20\n",
            "36/36 - 264s - loss: 0.6930 - accuracy: 0.5186 - f1: 0.4452 - mcc: 0.0393 - val_loss: 0.6929 - val_accuracy: 0.5035 - val_f1: 0.6634 - val_mcc: 0.0342 - 264s/epoch - 7s/step\n",
            "Epoch 2/20\n",
            "36/36 - 246s - loss: 0.6878 - accuracy: 0.5533 - f1: 0.5207 - mcc: 0.1274 - val_loss: 0.6831 - val_accuracy: 0.5794 - val_f1: 0.5837 - val_mcc: 0.1577 - 246s/epoch - 7s/step\n",
            "Epoch 3/20\n",
            "36/36 - 242s - loss: 0.6816 - accuracy: 0.5607 - f1: 0.5273 - mcc: 0.1295 - val_loss: 0.6796 - val_accuracy: 0.5828 - val_f1: 0.6508 - val_mcc: 0.1807 - 242s/epoch - 7s/step\n",
            "Epoch 4/20\n",
            "36/36 - 240s - loss: 0.6685 - accuracy: 0.5936 - f1: 0.5768 - mcc: 0.1955 - val_loss: 0.6696 - val_accuracy: 0.6089 - val_f1: 0.6422 - val_mcc: 0.2211 - 240s/epoch - 7s/step\n",
            "Epoch 5/20\n",
            "36/36 - 240s - loss: 0.6612 - accuracy: 0.6034 - f1: 0.6015 - mcc: 0.2389 - val_loss: 0.6716 - val_accuracy: 0.5717 - val_f1: 0.4960 - val_mcc: 0.1491 - 240s/epoch - 7s/step\n",
            "Epoch 6/20\n",
            "36/36 - 239s - loss: 0.6448 - accuracy: 0.6209 - f1: 0.6241 - mcc: 0.2640 - val_loss: 0.6546 - val_accuracy: 0.6258 - val_f1: 0.6425 - val_mcc: 0.2546 - 239s/epoch - 7s/step\n",
            "Epoch 7/20\n",
            "36/36 - 240s - loss: 0.6314 - accuracy: 0.6353 - f1: 0.6391 - mcc: 0.3144 - val_loss: 0.6441 - val_accuracy: 0.6485 - val_f1: 0.6346 - val_mcc: 0.2995 - 240s/epoch - 7s/step\n",
            "Epoch 8/20\n",
            "36/36 - 242s - loss: 0.5984 - accuracy: 0.6884 - f1: 0.7057 - mcc: 0.4006 - val_loss: 0.6292 - val_accuracy: 0.6378 - val_f1: 0.6992 - val_mcc: 0.3088 - 242s/epoch - 7s/step\n",
            "Epoch 9/20\n",
            "36/36 - 240s - loss: 0.5714 - accuracy: 0.7232 - f1: 0.7313 - mcc: 0.4765 - val_loss: 0.6321 - val_accuracy: 0.6273 - val_f1: 0.7068 - val_mcc: 0.3114 - 240s/epoch - 7s/step\n",
            "Epoch 10/20\n",
            "36/36 - 239s - loss: 0.5296 - accuracy: 0.7679 - f1: 0.7719 - mcc: 0.5499 - val_loss: 0.6027 - val_accuracy: 0.6877 - val_f1: 0.6208 - val_mcc: 0.3987 - 239s/epoch - 7s/step\n",
            "Epoch 11/20\n",
            "36/36 - 240s - loss: 0.4916 - accuracy: 0.8010 - f1: 0.8053 - mcc: 0.6195 - val_loss: 0.5624 - val_accuracy: 0.7409 - val_f1: 0.7485 - val_mcc: 0.4869 - 240s/epoch - 7s/step\n",
            "Epoch 12/20\n",
            "36/36 - 242s - loss: 0.4438 - accuracy: 0.8350 - f1: 0.8391 - mcc: 0.6804 - val_loss: 0.5436 - val_accuracy: 0.7330 - val_f1: 0.7555 - val_mcc: 0.4799 - 242s/epoch - 7s/step\n",
            "Epoch 13/20\n",
            "36/36 - 241s - loss: 0.4033 - accuracy: 0.8528 - f1: 0.8560 - mcc: 0.7160 - val_loss: 0.5418 - val_accuracy: 0.7488 - val_f1: 0.7137 - val_mcc: 0.5113 - 241s/epoch - 7s/step\n",
            "Epoch 14/20\n",
            "36/36 - 240s - loss: 0.3616 - accuracy: 0.8774 - f1: 0.8784 - mcc: 0.7576 - val_loss: 0.6199 - val_accuracy: 0.6701 - val_f1: 0.7313 - val_mcc: 0.3902 - 240s/epoch - 7s/step\n",
            "Epoch 15/20\n"
          ]
        }
      ],
      "source": [
        "gc.collect()\n",
        "\n",
        "model = Model(inputs=[seq_input1, seq_input2],\n",
        "            outputs=[forward(seq_input1, seq_input2)])\n",
        "\n",
        "adam = Adam(learning_rate=1e-4, amsgrad=True, epsilon=1e-6)\n",
        "\n",
        "model.compile(optimizer=adam, loss='binary_crossentropy', metrics=[accuracy, f1, mcc])\n",
        "\n",
        "checkpoint_callback = tf.keras.callbacks.ModelCheckpoint('/content/model_C1_C2_C3.h5', monitor='val_loss', mode='min')\n",
        "earlystop_callback = tf.keras.callbacks.EarlyStopping(monitor='val_loss', patience=5)\n",
        "\n",
        "model.fit([x1_train, x2_train], y_train, epochs=50,\n",
        "          batch_size=32, verbose=1, validation_split=0.15, callbacks=[checkpoint_callback, earlystop_callback])"
      ]
    },
    {
      "cell_type": "code",
      "execution_count": null,
      "metadata": {
        "id": "Dhum9V5Qe4c1"
      },
      "outputs": [],
      "source": [
        "model_saved = tf.keras.models.load_model('/content/model_C1_C2_C3.h5', custom_objects={'f1': f1, 'mcc': mcc})\n",
        "\n",
        "y_pred_C1 = model_saved.predict([x1_C1, x2_C1]).flatten()\n",
        "y_pred_C2 = model_saved.predict([x1_C2, x2_C2]).flatten()\n",
        "y_pred_C3 = model_saved.predict([x1_C3, x2_C3]).flatten()"
      ]
    },
    {
      "cell_type": "code",
      "execution_count": null,
      "metadata": {
        "colab": {
          "base_uri": "https://localhost:8080/"
        },
        "id": "aSZmZoMPfGgR",
        "outputId": "076d6d59-023c-4275-9adf-1112e47f3718"
      },
      "outputs": [
        {
          "name": "stdout",
          "output_type": "stream",
          "text": [
            "C1 Test accuracy:  0.9460208\n",
            "C2 Test accuracy:  0.7772766\n",
            "C3 Test accuracy:  0.5680191\n"
          ]
        }
      ],
      "source": [
        "print('C1 Test accuracy: ', accuracy(y_C1, y_pred_C1).numpy())\n",
        "print('C2 Test accuracy: ', accuracy(y_C2, y_pred_C2).numpy())\n",
        "print('C3 Test accuracy: ', accuracy(y_C3, y_pred_C3).numpy())"
      ]
    }
  ],
  "metadata": {
    "colab": {
      "collapsed_sections": [],
      "name": "Summer school PPI solved",
      "toc_visible": true,
      "provenance": [],
      "include_colab_link": true
    },
    "gpuClass": "standard",
    "kernelspec": {
      "display_name": "Python 3",
      "language": "python",
      "name": "python3"
    },
    "language_info": {
      "codemirror_mode": {
        "name": "ipython",
        "version": 3
      },
      "file_extension": ".py",
      "mimetype": "text/x-python",
      "name": "python",
      "nbconvert_exporter": "python",
      "pygments_lexer": "ipython3",
      "version": "3.7.3"
    }
  },
  "nbformat": 4,
  "nbformat_minor": 0
}
